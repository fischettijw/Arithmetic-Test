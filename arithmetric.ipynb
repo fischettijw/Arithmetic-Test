{
 "cells": [
  {
   "cell_type": "code",
   "execution_count": 10,
   "metadata": {},
   "outputs": [
    {
     "name": "stdout",
     "output_type": "stream",
     "text": [
      "str0: <class 'str'>\n",
      "num0: <class 'int'>\n",
      "num1: <class 'str'>\n",
      "num2: <class 'int'>\n"
     ]
    }
   ],
   "source": [
    "str0 = \"Max\"\n",
    "print(\"str0:\",type(str0))\n",
    "\n",
    "num0 = 0\n",
    "print(\"num0:\",type(num0))\n",
    "\n",
    "num1 = \"12\"\n",
    "print(\"num1:\",type(num1))\n",
    "\n",
    "num2 = int(num1)\n",
    "print(\"num2:\",type(num2))"
   ]
  },
  {
   "cell_type": "code",
   "execution_count": 14,
   "metadata": {},
   "outputs": [
    {
     "name": "stdout",
     "output_type": "stream",
     "text": [
      "1\n",
      "2\n",
      "3\n",
      "4\n",
      "5\n",
      "finished\n"
     ]
    }
   ],
   "source": [
    "num = 1\n",
    "while num<= 5:\n",
    "    print(num)\n",
    "    num = num + 1\n",
    "    \n",
    "print(\"finished\")"
   ]
  },
  {
   "cell_type": "code",
   "execution_count": null,
   "metadata": {},
   "outputs": [],
   "source": []
  }
 ],
 "metadata": {
  "kernelspec": {
   "display_name": "Python 3",
   "language": "python",
   "name": "python3"
  },
  "language_info": {
   "codemirror_mode": {
    "name": "ipython",
    "version": 3
   },
   "file_extension": ".py",
   "mimetype": "text/x-python",
   "name": "python",
   "nbconvert_exporter": "python",
   "pygments_lexer": "ipython3",
   "version": "3.11.3"
  },
  "orig_nbformat": 4
 },
 "nbformat": 4,
 "nbformat_minor": 2
}
